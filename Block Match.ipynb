{
 "cells": [
  {
   "cell_type": "code",
   "execution_count": 4,
   "metadata": {
    "collapsed": true
   },
   "outputs": [],
   "source": [
    "import matplotlib.pyplot as plt\n",
    "import matplotlib.patches as patches\n",
    "import numpy as np\n",
    "import skimage as ski\n",
    "import skimage.io\n",
    "import block_match as bm"
   ]
  },
  {
   "cell_type": "markdown",
   "metadata": {},
   "source": [
    "# Meaning of things\n",
    "The following parameters control the operation of the matching procedure. N1 dictates how big the blocks are. We generally work with square blocks, N1 by N1. N2 dictates how many similar blocks are considered for a group. In this experiment, it will only affect the number of similar blocks shown in the end. Finally, NS controls the size of the search area. While ideally one would search the whole image for relevant blocks, it would be too computationally expensive. So, in general, one defines a square search area around the reference block and searches within that area.\n",
    "\n",
    "You can change these numbers to experiment."
   ]
  },
  {
   "cell_type": "code",
   "execution_count": 2,
   "metadata": {
    "collapsed": true
   },
   "outputs": [],
   "source": [
    "## Method parameters.\n",
    "N1 = 8   # Block size\n",
    "N2 = 32  # Number of similar blocks\n",
    "NS = 32  # Search window side"
   ]
  },
  {
   "cell_type": "code",
   "execution_count": 5,
   "metadata": {
    "collapsed": true
   },
   "outputs": [],
   "source": [
    "# Read and show input image.\n",
    "y = ski.io.imread('0716.png', True)"
   ]
  },
  {
   "cell_type": "code",
   "execution_count": 7,
   "metadata": {
    "scrolled": false
   },
   "outputs": [],
   "source": [
    "## Compute the distance and show best blocks.\n",
    "\n",
    "rc = bm.select_random_ref(y, N1, NS)\n",
    "mt, d, df = bm.block_match_self_local(y, rc, N1, N2, NS)\n",
    "\n",
    "bm.visualise_match_table(mt, y, N1, rc, d, df)"
   ]
  },
  {
   "cell_type": "code",
   "execution_count": 10,
   "metadata": {
    "scrolled": false
   },
   "outputs": [
    {
     "data": {
      "image/png": "[encoded data removed]",
      "text/plain": [
       "<matplotlib.figure.Figure at 0x21c02c929e8>"
      ]
     },
     "metadata": {},
     "output_type": "display_data"
    }
   ],
   "source": [
    "ref, cdt, lab = bm.read_labelled_group(y, mt, rc, N1, NS)\n",
    "\n",
    "plt.imshow(lab[0].reshape(NS, NS))\n",
    "plt.show()"
   ]
  },
  {
   "cell_type": "code",
   "execution_count": null,
   "metadata": {
    "collapsed": true
   },
   "outputs": [],
   "source": [
    ""
   ]
  }
 ],
 "metadata": {
  "kernelspec": {
   "display_name": "Python 3",
   "language": "python",
   "name": "python3"
  },
  "language_info": {
   "codemirror_mode": {
    "name": "ipython",
    "version": 3.0
   },
   "file_extension": ".py",
   "mimetype": "text/x-python",
   "name": "python",
   "nbconvert_exporter": "python",
   "pygments_lexer": "ipython3",
   "version": "3.6.0"
  }
 },
 "nbformat": 4,
 "nbformat_minor": 0
}